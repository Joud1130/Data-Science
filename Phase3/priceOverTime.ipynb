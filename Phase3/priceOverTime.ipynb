{
 "cells": [
  {
   "cell_type": "markdown",
   "id": "478b652f-4c44-4427-823b-269e44573792",
   "metadata": {},
   "source": [
    "## Comparing flight prices based on booking date"
   ]
  },
  {
   "cell_type": "markdown",
   "id": "7e388dc0-09d2-43ac-b1eb-8635d8f07138",
   "metadata": {},
   "source": [
    "### Data cleaning"
   ]
  },
  {
   "cell_type": "code",
   "execution_count": 98,
   "id": "af07a61c-e8c1-409c-b817-c4a62e68a96d",
   "metadata": {},
   "outputs": [
    {
     "name": "stdout",
     "output_type": "stream",
     "text": [
      "Requirement already satisfied: seaborn in /Users/najoody/anaconda3/lib/python3.11/site-packages (0.13.2)\n",
      "Requirement already satisfied: numpy!=1.24.0,>=1.20 in /Users/najoody/anaconda3/lib/python3.11/site-packages (from seaborn) (2.1.1)\n",
      "Requirement already satisfied: pandas>=1.2 in /Users/najoody/anaconda3/lib/python3.11/site-packages (from seaborn) (2.2.2)\n",
      "Requirement already satisfied: matplotlib!=3.6.1,>=3.4 in /Users/najoody/anaconda3/lib/python3.11/site-packages (from seaborn) (3.9.2)\n",
      "Requirement already satisfied: contourpy>=1.0.1 in /Users/najoody/anaconda3/lib/python3.11/site-packages (from matplotlib!=3.6.1,>=3.4->seaborn) (1.3.0)\n",
      "Requirement already satisfied: cycler>=0.10 in /Users/najoody/anaconda3/lib/python3.11/site-packages (from matplotlib!=3.6.1,>=3.4->seaborn) (0.12.1)\n",
      "Requirement already satisfied: fonttools>=4.22.0 in /Users/najoody/anaconda3/lib/python3.11/site-packages (from matplotlib!=3.6.1,>=3.4->seaborn) (4.54.1)\n",
      "Requirement already satisfied: kiwisolver>=1.3.1 in /Users/najoody/anaconda3/lib/python3.11/site-packages (from matplotlib!=3.6.1,>=3.4->seaborn) (1.4.7)\n",
      "Requirement already satisfied: packaging>=20.0 in /Users/najoody/anaconda3/lib/python3.11/site-packages (from matplotlib!=3.6.1,>=3.4->seaborn) (23.1)\n",
      "Requirement already satisfied: pillow>=8 in /Users/najoody/anaconda3/lib/python3.11/site-packages (from matplotlib!=3.6.1,>=3.4->seaborn) (9.4.0)\n",
      "Requirement already satisfied: pyparsing>=2.3.1 in /Users/najoody/anaconda3/lib/python3.11/site-packages (from matplotlib!=3.6.1,>=3.4->seaborn) (3.1.4)\n",
      "Requirement already satisfied: python-dateutil>=2.7 in /Users/najoody/anaconda3/lib/python3.11/site-packages (from matplotlib!=3.6.1,>=3.4->seaborn) (2.8.2)\n",
      "Requirement already satisfied: pytz>=2020.1 in /Users/najoody/anaconda3/lib/python3.11/site-packages (from pandas>=1.2->seaborn) (2023.3.post1)\n",
      "Requirement already satisfied: tzdata>=2022.7 in /Users/najoody/anaconda3/lib/python3.11/site-packages (from pandas>=1.2->seaborn) (2024.1)\n",
      "Requirement already satisfied: six>=1.5 in /Users/najoody/anaconda3/lib/python3.11/site-packages (from python-dateutil>=2.7->matplotlib!=3.6.1,>=3.4->seaborn) (1.16.0)\n"
     ]
    }
   ],
   "source": [
    "!pip install seaborn"
   ]
  },
  {
   "cell_type": "code",
   "execution_count": 99,
   "id": "4408c143-3f27-43c5-92b5-1892b56cd3a4",
   "metadata": {},
   "outputs": [],
   "source": [
    "import pandas as pd\n",
    "import seaborn as sns\n",
    "import matplotlib.pyplot as plt\n",
    "import re"
   ]
  },
  {
   "cell_type": "markdown",
   "id": "9646a3a1-e7df-49dd-841c-32652b4df5a3",
   "metadata": {},
   "source": [
    "### Load the dataset"
   ]
  },
  {
   "cell_type": "code",
   "execution_count": 100,
   "id": "77fa11bd-9c6e-4ee4-b914-dbe1b86e53e4",
   "metadata": {},
   "outputs": [],
   "source": [
    "# Step 1: Load the datasets\n",
    "weekBefore = pd.read_csv('Flights_WeekBefore.csv')\n",
    "dayBefore = pd.read_csv('FlightsDayBefore.csv')"
   ]
  },
  {
   "cell_type": "code",
   "execution_count": 101,
   "id": "9035a38c-359e-4706-9018-0df70aed7948",
   "metadata": {},
   "outputs": [
    {
     "name": "stdout",
     "output_type": "stream",
     "text": [
      "company_name       0\n",
      "flight_duration    0\n",
      "price              0\n",
      "departure_date     0\n",
      "departure_time     0\n",
      "arrival_time       0\n",
      "stops              0\n",
      "departure_city     0\n",
      "arrival_city       0\n",
      "dtype: int64\n",
      "company_name       0\n",
      "flight_duration    0\n",
      "price              0\n",
      "departure_date     0\n",
      "departure_time     0\n",
      "arrival_time       0\n",
      "stops              0\n",
      "departure_city     0\n",
      "arrival_city       0\n",
      "dtype: int64\n"
     ]
    }
   ],
   "source": [
    "# Check for missing values\n",
    "missing_values = weekBefore.isnull().sum()\n",
    "missing_values2 = dayBefore.isnull().sum()\n",
    "\n",
    "print(missing_values)\n",
    "print(missing_values2)"
   ]
  },
  {
   "cell_type": "code",
   "execution_count": 102,
   "id": "2b79e908-ea21-4aa6-ac0e-d95b2b2132da",
   "metadata": {},
   "outputs": [],
   "source": [
    "# Cleaning the 'price' column: remove 'SAR' and commas, convert to float\n",
    "weekBefore['price'] = weekBefore['price'].replace({'SAR ': '', ',': ''}, regex=True).astype(float)\n",
    "dayBefore['price'] = dayBefore['price'].replace({'SAR ': '', ',': ''}, regex=True).astype(float)"
   ]
  },
  {
   "cell_type": "code",
   "execution_count": 103,
   "id": "4322569d-53a6-4c54-bf8d-54d0233a7878",
   "metadata": {},
   "outputs": [
    {
     "name": "stdout",
     "output_type": "stream",
     "text": [
      "Number of missing prices: 0\n",
      "Number of missing prices: 0\n"
     ]
    }
   ],
   "source": [
    "# Check for missing prices\n",
    "missing_prices = weekBefore['price'].isnull().sum()\n",
    "missing_prices2 = dayBefore['price'].isnull().sum()\n",
    "\n",
    "print(\"Number of missing prices:\", missing_prices)\n",
    "print(\"Number of missing prices:\", missing_prices2)"
   ]
  },
  {
   "cell_type": "code",
   "execution_count": 104,
   "id": "5bb41cf9-feaf-4339-913b-328772132dac",
   "metadata": {},
   "outputs": [],
   "source": [
    "# Clean the 'departure_time' and 'arrival_time' columns to remove weird symbols\n",
    "weekBefore['departure_time'] = weekBefore['departure_time'].str.replace(r'[\\u200B-\\u200D\\u202F\\u00A0]', '', regex=True)\n",
    "weekBefore['arrival_time'] = weekBefore['arrival_time'].str.replace(r'[\\u200B-\\u200D\\u202F\\u00A0]', '', regex=True)\n",
    "\n",
    "dayBefore['departure_time'] = dayBefore['departure_time'].str.replace(r'[\\u200B-\\u200D\\u202F\\u00A0]', '', regex=True)\n",
    "dayBefore['arrival_time'] = dayBefore['arrival_time'].str.replace(r'[\\u200B-\\u200D\\u202F\\u00A0]', '', regex=True)"
   ]
  },
  {
   "cell_type": "code",
   "execution_count": 105,
   "id": "cfab4668-73fb-466b-bb93-9ed4f4629b95",
   "metadata": {},
   "outputs": [],
   "source": [
    "# Ensure all values are treated as strings, then use regex to replace ' stop' or ' stops' with an empty string\n",
    "weekBefore['stops'] = weekBefore['stops'].astype(str).str.replace(r'\\s*stops?', '', regex=True).str.strip()\n",
    "dayBefore['stops'] = dayBefore['stops'].astype(str).str.replace(r'\\s*stops?', '', regex=True).str.strip()\n",
    "\n",
    "# Convert the cleaned 'stops' column to numeric\n",
    "weekBefore['stops'] = pd.to_numeric(weekBefore['stops'], errors='coerce')\n",
    "dayBefore['stops'] = pd.to_numeric(dayBefore['stops'], errors='coerce')\n",
    "\n",
    "# Convert the numeric column to integers (if not NaN)\n",
    "weekBefore['stops'] = weekBefore['stops'].fillna(0).astype(int)  # Replace NaN with 0 and convert to int\n",
    "dayBefore['stops'] = dayBefore['stops'].fillna(0).astype(int)  # Replace NaN with 0 and convert to int"
   ]
  },
  {
   "cell_type": "code",
   "execution_count": 106,
   "id": "e440f8c6-2921-44e1-bf0e-424a30812956",
   "metadata": {},
   "outputs": [
    {
     "name": "stdout",
     "output_type": "stream",
     "text": [
      "Number of duplicate rows in dataset of the flight a week ahead: 48\n",
      "Number of duplicate rows a day before the flight: 491\n"
     ]
    }
   ],
   "source": [
    "# Count the number of duplicate rows\n",
    "num_duplicates = weekBefore.duplicated().sum()\n",
    "num_duplicates2 = dayBefore.duplicated().sum()\n",
    "\n",
    "# Print the number of duplicates\n",
    "print(\"Number of duplicate rows in dataset of the flight a week ahead:\", num_duplicates)\n",
    "print(\"Number of duplicate rows a day before the flight:\", num_duplicates2)"
   ]
  },
  {
   "cell_type": "code",
   "execution_count": 107,
   "id": "ab60d214-37ec-4c7a-a174-bf09e022b805",
   "metadata": {},
   "outputs": [],
   "source": [
    "# Dropping duplicates (if any)\n",
    "weekBefore = weekBefore.drop_duplicates(keep='first')\n",
    "dayBefore = dayBefore.drop_duplicates(keep='first')"
   ]
  },
  {
   "cell_type": "code",
   "execution_count": 108,
   "id": "9125d5b0-0e8a-4be3-9beb-6fe61c40b84a",
   "metadata": {},
   "outputs": [
    {
     "name": "stdout",
     "output_type": "stream",
     "text": [
      "Number of duplicate rows in the cleaned data: 0\n",
      "Number of duplicate rows in the cleaned data: 0\n"
     ]
    }
   ],
   "source": [
    "# Count the number of duplicate rows in the cleaned dataset\n",
    "num_duplicates_cleaned = weekBefore.duplicated().sum()\n",
    "num_duplicates_cleaned2 = dayBefore.duplicated().sum()\n",
    "\n",
    "# Print the number of duplicates in the cleaned dataset\n",
    "print(\"Number of duplicate rows in the cleaned data:\", num_duplicates_cleaned)\n",
    "print(\"Number of duplicate rows in the cleaned data:\", num_duplicates_cleaned2)"
   ]
  },
  {
   "cell_type": "code",
   "execution_count": 109,
   "id": "14e2bf31-fa4d-4344-9de1-7be6ecbde059",
   "metadata": {},
   "outputs": [
    {
     "name": "stdout",
     "output_type": "stream",
     "text": [
      "  company_name  flight_duration  price departure_date departure_time  \\\n",
      "0     Flyadeal              100  319.0     2024-10-17        10:15PM   \n",
      "1     Flyadeal              105  359.0     2024-10-17         4:10PM   \n",
      "2     Flyadeal               95  359.0     2024-10-17         4:35PM   \n",
      "3     Flyadeal              100  359.0     2024-10-17         5:20PM   \n",
      "4       Flynas              110  389.0     2024-10-17         3:40PM   \n",
      "\n",
      "  arrival_time  stops departure_city arrival_city  \n",
      "0      11:55PM      0            JED          RUH  \n",
      "1       5:55PM      0            JED          RUH  \n",
      "2       6:10PM      0            JED          RUH  \n",
      "3       7:00PM      0            JED          RUH  \n",
      "4       5:30PM      0            JED          RUH  \n",
      "  company_name  flight_duration  price departure_date departure_time  \\\n",
      "0     Flyadeal               95  219.0     2024-10-24         6:10AM   \n",
      "1       Flynas              110  259.0     2024-10-24        10:35AM   \n",
      "2       Saudia              110  359.0     2024-10-24         8:00AM   \n",
      "3     Flyadeal              100  219.0     2024-10-24        12:15AM   \n",
      "4     Flyadeal               95  219.0     2024-10-24         1:45AM   \n",
      "\n",
      "  arrival_time  stops departure_city arrival_city  \n",
      "0       7:45AM      0            JED          RUH  \n",
      "1      12:25PM      0            JED          RUH  \n",
      "2       9:50AM      0            JED          RUH  \n",
      "3       1:55AM      0            JED          RUH  \n",
      "4       3:20AM      0            JED          RUH  \n"
     ]
    }
   ],
   "source": [
    "def convert_duration_to_minutes(duration_str):\n",
    "    # Check if the input is not a string\n",
    "    if not isinstance(duration_str, str):\n",
    "        return np.nan  # Return NaN for non-string inputs\n",
    "    \n",
    "    if pd.isnull(duration_str) or duration_str.strip() == \"\":\n",
    "        return np.nan  # Return NaN for null or empty strings\n",
    "    \n",
    "    # Using a more flexible regex pattern\n",
    "    match = re.match(r'(?:(\\d+)\\s*hour(?:s)?|(\\d+)\\s*hr(?:s)?)?\\s*(?:(\\d+)\\s*minute(?:s)?|(\\d+)\\s*min(?:s)?)?', duration_str.strip(), re.IGNORECASE)\n",
    "    \n",
    "    if match is None:\n",
    "        print(f\"Unmatched duration string: '{duration_str}'\")  # Debugging output\n",
    "        return np.nan  # If format is unexpected, return NaN\n",
    "\n",
    "    \n",
    "    # Handle the cases where only hours are present\n",
    "    hours = int(match.group(1)) * 60 if match.group(1) else (int(match.group(2)) * 60 if match.group(2) else 0)\n",
    "    \n",
    "    # Handle minutes: if minutes are present, get them; otherwise, set to 0\n",
    "    minutes = int(match.group(3)) if match.group(3) else (int(match.group(4)) if match.group(4) else 0)\n",
    "    \n",
    "    return hours + minutes  # Total minutes\n",
    "\n",
    "# Example of converting the 'flight_duration' column\n",
    "weekBefore['flight_duration'] = weekBefore['flight_duration'].apply(convert_duration_to_minutes)\n",
    "dayBefore['flight_duration'] = dayBefore['flight_duration'].apply(convert_duration_to_minutes)\n",
    "\n",
    "print(weekBefore.head())\n",
    "print(dayBefore.head())\n"
   ]
  },
  {
   "cell_type": "markdown",
   "id": "94ea6e5a-553b-4a3d-8faf-f2f0fa0d678e",
   "metadata": {},
   "source": [
    "## Prepare the Data to be compared"
   ]
  },
  {
   "cell_type": "markdown",
   "id": "76adf6df-fad4-4700-b5aa-da022ac6720e",
   "metadata": {},
   "source": [
    "### Changing the names of the coulmns to match the secondrey data"
   ]
  },
  {
   "cell_type": "code",
   "execution_count": null,
   "id": "2915236e-0775-46a6-a120-104562974fcb",
   "metadata": {},
   "outputs": [
    {
     "name": "stdout",
     "output_type": "stream",
     "text": [
      "    Airline  Flight Duration  Price Departure Date Departure Time  \\\n",
      "0  Flyadeal              100  319.0     2024-10-17        10:15PM   \n",
      "1  Flyadeal              105  359.0     2024-10-17         4:10PM   \n",
      "2  Flyadeal               95  359.0     2024-10-17         4:35PM   \n",
      "3  Flyadeal              100  359.0     2024-10-17         5:20PM   \n",
      "4    Flynas              110  389.0     2024-10-17         3:40PM   \n",
      "\n",
      "  Arrival Time  Number Of Stops Departure City Arrival City  \n",
      "0      11:55PM                0            JED          RUH  \n",
      "1       5:55PM                0            JED          RUH  \n",
      "2       6:10PM                0            JED          RUH  \n",
      "3       7:00PM                0            JED          RUH  \n",
      "4       5:30PM                0            JED          RUH  \n"
     ]
    }
   ],
   "source": [
    "# Renaming the columns\n",
    "weekBefore.rename(columns={\n",
    "    'company_name': 'Airline',\n",
    "    'flight_duration': 'Flight Duration',\n",
    "    'price': 'Price',\n",
    "    'departure_date': 'Departure Date',\n",
    "    'departure_time': 'Departure Time',\n",
    "    'arrival_time': 'Arrival Time',\n",
    "    'stops': 'Number Of Stops',\n",
    "    'departure_city': 'Departure City',\n",
    "    'arrival_city': 'Arrival City'\n",
    "}, inplace=True)\n",
    "\n",
    "# Display the first few rows to confirm the changes\n",
    "print(weekBefore.head())"
   ]
  },
  {
   "cell_type": "code",
   "execution_count": null,
   "id": "2cd40dd9-6c69-40a9-b08c-ef957248fc5c",
   "metadata": {},
   "outputs": [
    {
     "name": "stdout",
     "output_type": "stream",
     "text": [
      "    Airline  Flight Duration  Price Departure Date Departure Time  \\\n",
      "0  Flyadeal               95  219.0     2024-10-24         6:10AM   \n",
      "1    Flynas              110  259.0     2024-10-24        10:35AM   \n",
      "2    Saudia              110  359.0     2024-10-24         8:00AM   \n",
      "3  Flyadeal              100  219.0     2024-10-24        12:15AM   \n",
      "4  Flyadeal               95  219.0     2024-10-24         1:45AM   \n",
      "\n",
      "  Arrival Time  Number Of Stops Departure City Arrival City  \n",
      "0       7:45AM                0            JED          RUH  \n",
      "1      12:25PM                0            JED          RUH  \n",
      "2       9:50AM                0            JED          RUH  \n",
      "3       1:55AM                0            JED          RUH  \n",
      "4       3:20AM                0            JED          RUH  \n"
     ]
    }
   ],
   "source": [
    "# Renaming the columns\n",
    "dayBefore.rename(columns={\n",
    "    'company_name': 'Airline',\n",
    "    'flight_duration': 'Flight Duration',\n",
    "    'price': 'Price',\n",
    "    'departure_date': 'Departure Date',\n",
    "    'departure_time': 'Departure Time',\n",
    "    'arrival_time': 'Arrival Time',\n",
    "    'stops': 'Number Of Stops',\n",
    "    'departure_city': 'Departure City',\n",
    "    'arrival_city': 'Arrival City'\n",
    "}, inplace=True)\n",
    "\n",
    "# Display the first few rows to confirm the changes\n",
    "print(dayBefore.head())"
   ]
  },
  {
   "cell_type": "markdown",
   "id": "5d1d6f20-77dd-4f81-b99b-288c43e364e2",
   "metadata": {},
   "source": [
    "### Changing \"Arrival Time\", and \"Departure Time\" data type format to 24 hour"
   ]
  },
  {
   "cell_type": "code",
   "execution_count": 112,
   "id": "b0acc993-659c-4e05-b816-196cadcafc18",
   "metadata": {},
   "outputs": [
    {
     "data": {
      "text/html": [
       "<div>\n",
       "<style scoped>\n",
       "    .dataframe tbody tr th:only-of-type {\n",
       "        vertical-align: middle;\n",
       "    }\n",
       "\n",
       "    .dataframe tbody tr th {\n",
       "        vertical-align: top;\n",
       "    }\n",
       "\n",
       "    .dataframe thead th {\n",
       "        text-align: right;\n",
       "    }\n",
       "</style>\n",
       "<table border=\"1\" class=\"dataframe\">\n",
       "  <thead>\n",
       "    <tr style=\"text-align: right;\">\n",
       "      <th></th>\n",
       "      <th>Departure Time</th>\n",
       "      <th>Arrival Time</th>\n",
       "    </tr>\n",
       "  </thead>\n",
       "  <tbody>\n",
       "    <tr>\n",
       "      <th>0</th>\n",
       "      <td>22:15:00</td>\n",
       "      <td>23:55:00</td>\n",
       "    </tr>\n",
       "    <tr>\n",
       "      <th>1</th>\n",
       "      <td>16:10:00</td>\n",
       "      <td>17:55:00</td>\n",
       "    </tr>\n",
       "    <tr>\n",
       "      <th>2</th>\n",
       "      <td>16:35:00</td>\n",
       "      <td>18:10:00</td>\n",
       "    </tr>\n",
       "    <tr>\n",
       "      <th>3</th>\n",
       "      <td>17:20:00</td>\n",
       "      <td>19:00:00</td>\n",
       "    </tr>\n",
       "    <tr>\n",
       "      <th>4</th>\n",
       "      <td>15:40:00</td>\n",
       "      <td>17:30:00</td>\n",
       "    </tr>\n",
       "  </tbody>\n",
       "</table>\n",
       "</div>"
      ],
      "text/plain": [
       "  Departure Time Arrival Time\n",
       "0       22:15:00     23:55:00\n",
       "1       16:10:00     17:55:00\n",
       "2       16:35:00     18:10:00\n",
       "3       17:20:00     19:00:00\n",
       "4       15:40:00     17:30:00"
      ]
     },
     "execution_count": 112,
     "metadata": {},
     "output_type": "execute_result"
    }
   ],
   "source": [
    "# Removing the '+1', '+2', etc., from the 'Arrival Time' column\n",
    "weekBefore['Arrival Time'] = weekBefore['Arrival Time'].apply(lambda x: re.sub(r'\\+\\d+', '', x))\n",
    "\n",
    "\n",
    "# Convert 'Departure Time' and 'Arrival Time' to 24-hour format\n",
    "weekBefore['Departure Time'] = pd.to_datetime(weekBefore['Departure Time'], format='%I:%M%p', errors='coerce').dt.time\n",
    "weekBefore['Arrival Time'] = pd.to_datetime(weekBefore['Arrival Time'], format='%I:%M%p', errors='coerce').dt.time\n",
    "\n",
    "# Checking the first few rows to verify the changes\n",
    "weekBefore[['Departure Time', 'Arrival Time']].head()"
   ]
  },
  {
   "cell_type": "code",
   "execution_count": 113,
   "id": "550257a1-6b16-4ee2-a081-51d83a3e8c38",
   "metadata": {},
   "outputs": [
    {
     "data": {
      "text/html": [
       "<div>\n",
       "<style scoped>\n",
       "    .dataframe tbody tr th:only-of-type {\n",
       "        vertical-align: middle;\n",
       "    }\n",
       "\n",
       "    .dataframe tbody tr th {\n",
       "        vertical-align: top;\n",
       "    }\n",
       "\n",
       "    .dataframe thead th {\n",
       "        text-align: right;\n",
       "    }\n",
       "</style>\n",
       "<table border=\"1\" class=\"dataframe\">\n",
       "  <thead>\n",
       "    <tr style=\"text-align: right;\">\n",
       "      <th></th>\n",
       "      <th>Departure Time</th>\n",
       "      <th>Arrival Time</th>\n",
       "    </tr>\n",
       "  </thead>\n",
       "  <tbody>\n",
       "    <tr>\n",
       "      <th>0</th>\n",
       "      <td>06:10:00</td>\n",
       "      <td>07:45:00</td>\n",
       "    </tr>\n",
       "    <tr>\n",
       "      <th>1</th>\n",
       "      <td>10:35:00</td>\n",
       "      <td>12:25:00</td>\n",
       "    </tr>\n",
       "    <tr>\n",
       "      <th>2</th>\n",
       "      <td>08:00:00</td>\n",
       "      <td>09:50:00</td>\n",
       "    </tr>\n",
       "    <tr>\n",
       "      <th>3</th>\n",
       "      <td>00:15:00</td>\n",
       "      <td>01:55:00</td>\n",
       "    </tr>\n",
       "    <tr>\n",
       "      <th>4</th>\n",
       "      <td>01:45:00</td>\n",
       "      <td>03:20:00</td>\n",
       "    </tr>\n",
       "  </tbody>\n",
       "</table>\n",
       "</div>"
      ],
      "text/plain": [
       "  Departure Time Arrival Time\n",
       "0       06:10:00     07:45:00\n",
       "1       10:35:00     12:25:00\n",
       "2       08:00:00     09:50:00\n",
       "3       00:15:00     01:55:00\n",
       "4       01:45:00     03:20:00"
      ]
     },
     "execution_count": 113,
     "metadata": {},
     "output_type": "execute_result"
    }
   ],
   "source": [
    "# Removing the '+1', '+2', etc., from the 'Arrival Time' column\n",
    "dayBefore['Arrival Time'] = dayBefore['Arrival Time'].apply(lambda x: re.sub(r'\\+\\d+', '', x))\n",
    "\n",
    "\n",
    "# Convert 'Departure Time' and 'Arrival Time' to 24-hour format\n",
    "dayBefore['Departure Time'] = pd.to_datetime(dayBefore['Departure Time'], format='%I:%M%p', errors='coerce').dt.time\n",
    "dayBefore['Arrival Time'] = pd.to_datetime(dayBefore['Arrival Time'], format='%I:%M%p', errors='coerce').dt.time\n",
    "\n",
    "# Checking the first few rows to verify the changes\n",
    "dayBefore[['Departure Time', 'Arrival Time']].head()"
   ]
  },
  {
   "cell_type": "markdown",
   "id": "8438127c-8d32-4c8a-bf1e-0b4da965f094",
   "metadata": {},
   "source": [
    "### Adding a new column \"Flight Lands Next Day\""
   ]
  },
  {
   "cell_type": "code",
   "execution_count": 114,
   "id": "cae4253f-52f9-4fd9-9f43-816f5f189b43",
   "metadata": {},
   "outputs": [
    {
     "data": {
      "text/html": [
       "<div>\n",
       "<style scoped>\n",
       "    .dataframe tbody tr th:only-of-type {\n",
       "        vertical-align: middle;\n",
       "    }\n",
       "\n",
       "    .dataframe tbody tr th {\n",
       "        vertical-align: top;\n",
       "    }\n",
       "\n",
       "    .dataframe thead th {\n",
       "        text-align: right;\n",
       "    }\n",
       "</style>\n",
       "<table border=\"1\" class=\"dataframe\">\n",
       "  <thead>\n",
       "    <tr style=\"text-align: right;\">\n",
       "      <th></th>\n",
       "      <th>Departure Time</th>\n",
       "      <th>Arrival Time</th>\n",
       "      <th>Flight Lands Next Day</th>\n",
       "    </tr>\n",
       "  </thead>\n",
       "  <tbody>\n",
       "    <tr>\n",
       "      <th>0</th>\n",
       "      <td>22:15:00</td>\n",
       "      <td>23:55:00</td>\n",
       "      <td>0</td>\n",
       "    </tr>\n",
       "    <tr>\n",
       "      <th>1</th>\n",
       "      <td>16:10:00</td>\n",
       "      <td>17:55:00</td>\n",
       "      <td>0</td>\n",
       "    </tr>\n",
       "    <tr>\n",
       "      <th>2</th>\n",
       "      <td>16:35:00</td>\n",
       "      <td>18:10:00</td>\n",
       "      <td>0</td>\n",
       "    </tr>\n",
       "    <tr>\n",
       "      <th>3</th>\n",
       "      <td>17:20:00</td>\n",
       "      <td>19:00:00</td>\n",
       "      <td>0</td>\n",
       "    </tr>\n",
       "    <tr>\n",
       "      <th>4</th>\n",
       "      <td>15:40:00</td>\n",
       "      <td>17:30:00</td>\n",
       "      <td>0</td>\n",
       "    </tr>\n",
       "  </tbody>\n",
       "</table>\n",
       "</div>"
      ],
      "text/plain": [
       "  Departure Time Arrival Time  Flight Lands Next Day\n",
       "0       22:15:00     23:55:00                      0\n",
       "1       16:10:00     17:55:00                      0\n",
       "2       16:35:00     18:10:00                      0\n",
       "3       17:20:00     19:00:00                      0\n",
       "4       15:40:00     17:30:00                      0"
      ]
     },
     "execution_count": 114,
     "metadata": {},
     "output_type": "execute_result"
    }
   ],
   "source": [
    "# Adding a new column 'Flight Lands Next Day' with binary values based on the condition\n",
    "weekBefore['Flight Lands Next Day'] = weekBefore.apply(\n",
    "    lambda row: 1 if row['Arrival Time'] and row['Departure Time'] and row['Arrival Time'].hour < row['Departure Time'].hour else 0,\n",
    "    axis=1\n",
    ")\n",
    "\n",
    "# Checking the updated dataset with the new column\n",
    "weekBefore[['Departure Time', 'Arrival Time', 'Flight Lands Next Day']].head()"
   ]
  },
  {
   "cell_type": "code",
   "execution_count": null,
   "id": "4849133a-9387-4ee9-9919-957d347a0588",
   "metadata": {},
   "outputs": [
    {
     "data": {
      "text/html": [
       "<div>\n",
       "<style scoped>\n",
       "    .dataframe tbody tr th:only-of-type {\n",
       "        vertical-align: middle;\n",
       "    }\n",
       "\n",
       "    .dataframe tbody tr th {\n",
       "        vertical-align: top;\n",
       "    }\n",
       "\n",
       "    .dataframe thead th {\n",
       "        text-align: right;\n",
       "    }\n",
       "</style>\n",
       "<table border=\"1\" class=\"dataframe\">\n",
       "  <thead>\n",
       "    <tr style=\"text-align: right;\">\n",
       "      <th></th>\n",
       "      <th>Departure Time</th>\n",
       "      <th>Arrival Time</th>\n",
       "      <th>Flight Lands Next Day</th>\n",
       "    </tr>\n",
       "  </thead>\n",
       "  <tbody>\n",
       "    <tr>\n",
       "      <th>0</th>\n",
       "      <td>06:10:00</td>\n",
       "      <td>07:45:00</td>\n",
       "      <td>0</td>\n",
       "    </tr>\n",
       "    <tr>\n",
       "      <th>1</th>\n",
       "      <td>10:35:00</td>\n",
       "      <td>12:25:00</td>\n",
       "      <td>0</td>\n",
       "    </tr>\n",
       "    <tr>\n",
       "      <th>2</th>\n",
       "      <td>08:00:00</td>\n",
       "      <td>09:50:00</td>\n",
       "      <td>0</td>\n",
       "    </tr>\n",
       "    <tr>\n",
       "      <th>3</th>\n",
       "      <td>00:15:00</td>\n",
       "      <td>01:55:00</td>\n",
       "      <td>0</td>\n",
       "    </tr>\n",
       "    <tr>\n",
       "      <th>4</th>\n",
       "      <td>01:45:00</td>\n",
       "      <td>03:20:00</td>\n",
       "      <td>0</td>\n",
       "    </tr>\n",
       "  </tbody>\n",
       "</table>\n",
       "</div>"
      ],
      "text/plain": [
       "  Departure Time Arrival Time  Flight Lands Next Day\n",
       "0       06:10:00     07:45:00                      0\n",
       "1       10:35:00     12:25:00                      0\n",
       "2       08:00:00     09:50:00                      0\n",
       "3       00:15:00     01:55:00                      0\n",
       "4       01:45:00     03:20:00                      0"
      ]
     },
     "execution_count": 115,
     "metadata": {},
     "output_type": "execute_result"
    }
   ],
   "source": [
    "dayBefore['Flight Lands Next Day'] = dayBefore.apply(\n",
    "    lambda row: 1 if row['Arrival Time'] and row['Departure Time'] and row['Arrival Time'].hour < row['Departure Time'].hour else 0,\n",
    "    axis=1\n",
    ")\n",
    "dayBefore[['Departure Time', 'Arrival Time', 'Flight Lands Next Day']].head()"
   ]
  },
  {
   "cell_type": "markdown",
   "id": "2c34fd54-32bb-478c-960e-e20d34748967",
   "metadata": {},
   "source": [
    "### Adding a new column \"Arrival Date\""
   ]
  },
  {
   "cell_type": "code",
   "execution_count": null,
   "id": "f1df1aea-70ca-4aa3-83b1-15b87dc4f01c",
   "metadata": {},
   "outputs": [
    {
     "name": "stdout",
     "output_type": "stream",
     "text": [
      "['2024-10-17' '2024-10-18' '2024-10-19' '2024-10-20' '2024-10-21'\n",
      " '2024-10-22' '2024-10-23' '2024-10-24']\n"
     ]
    }
   ],
   "source": [
    "# Check the unique values in the 'Departure Date' column\n",
    "print(weekBefore['Departure Date'].unique())"
   ]
  },
  {
   "cell_type": "code",
   "execution_count": 117,
   "id": "f2e3b64c-b7d3-44d9-8a19-115543e3a777",
   "metadata": {},
   "outputs": [
    {
     "name": "stdout",
     "output_type": "stream",
     "text": [
      "  Departure Date Arrival Date  Flight Lands Next Day\n",
      "0     2024-10-17   2024-10-17                      0\n",
      "1     2024-10-17   2024-10-17                      0\n",
      "2     2024-10-17   2024-10-17                      0\n",
      "3     2024-10-17   2024-10-17                      0\n",
      "4     2024-10-17   2024-10-17                      0\n"
     ]
    }
   ],
   "source": [
    "# Step 1: Ensure 'Departure Date' is treated as string\n",
    "weekBefore['Departure Date'] = weekBefore['Departure Date'].astype(str)\n",
    "\n",
    "# Step 2: Convert the 'Departure Date' column to a datetime format\n",
    "weekBefore['Departure Date'] = pd.to_datetime(weekBefore['Departure Date'], format='%Y-%m-%d', errors='coerce')\n",
    "\n",
    "# Step 3: Add the 'Arrival Date' column based on the condition\n",
    "weekBefore['Arrival Date'] = weekBefore.apply(\n",
    "    lambda row: row['Departure Date'] + pd.Timedelta(days=1) if row['Flight Lands Next Day'] == 1 else row['Departure Date'],\n",
    "    axis=1\n",
    ")\n",
    "\n",
    "# Checking the updated dataset with the new 'Arrival Date' column\n",
    "print(weekBefore[['Departure Date', 'Arrival Date', 'Flight Lands Next Day']].head())"
   ]
  },
  {
   "cell_type": "code",
   "execution_count": 118,
   "id": "0a225fc6-2dc0-4573-90a0-0562ee8dbbc8",
   "metadata": {},
   "outputs": [
    {
     "name": "stdout",
     "output_type": "stream",
     "text": [
      "  Departure Date Arrival Date  Flight Lands Next Day\n",
      "0     2024-10-24   2024-10-25                      1\n",
      "1     2024-10-24   2024-10-25                      1\n",
      "2     2024-10-24   2024-10-24                      0\n",
      "3     2024-10-24   2024-10-24                      0\n",
      "4     2024-10-24   2024-10-24                      0\n"
     ]
    }
   ],
   "source": [
    "# Step 1: Ensure 'Departure Date' is treated as string\n",
    "dayBefore['Departure Date'] = dayBefore['Departure Date'].astype(str)\n",
    "\n",
    "# Step 2: Convert the 'Departure Date' column to a datetime format\n",
    "dayBefore['Departure Date'] = pd.to_datetime(dayBefore['Departure Date'], format='%Y-%m-%d', errors='coerce')\n",
    "\n",
    "# For testing: Set some flights to land the next day (adjust as needed based on your dataset)\n",
    "dayBefore.loc[0, 'Flight Lands Next Day'] = 1  # Change the first entry to 1 for testing\n",
    "dayBefore.loc[1, 'Flight Lands Next Day'] = 1  # Change the second entry to 1 for testing\n",
    "\n",
    "# Step 3: Add the 'Arrival Date' column based on the condition\n",
    "dayBefore['Arrival Date'] = dayBefore.apply(\n",
    "    lambda row: row['Departure Date'] + pd.Timedelta(days=1) if row['Flight Lands Next Day'] == 1 else row['Departure Date'],\n",
    "    axis=1\n",
    ")\n",
    "\n",
    "# Checking the updated dataset with the new 'Arrival Date' column\n",
    "print(dayBefore[['Departure Date', 'Arrival Date', 'Flight Lands Next Day']].head())"
   ]
  },
  {
   "cell_type": "markdown",
   "id": "0c76b7a7-1479-4dc9-8861-a69fd8ecfa4e",
   "metadata": {},
   "source": [
    "### Change the data types of the specified columns in the Primary dataset"
   ]
  },
  {
   "cell_type": "code",
   "execution_count": 119,
   "id": "df2df6da-567d-4ce6-a17b-5bfca9d9f58d",
   "metadata": {},
   "outputs": [
    {
     "data": {
      "text/plain": [
       "Airline                          object\n",
       "Flight Duration                 float64\n",
       "Price                           float64\n",
       "Departure Date           datetime64[ns]\n",
       "Departure Time                   object\n",
       "Arrival Time                     object\n",
       "Number Of Stops                   int64\n",
       "Departure City                   object\n",
       "Arrival City                     object\n",
       "Flight Lands Next Day             int64\n",
       "Arrival Date             datetime64[ns]\n",
       "dtype: object"
      ]
     },
     "execution_count": 119,
     "metadata": {},
     "output_type": "execute_result"
    }
   ],
   "source": [
    "# Change the data types of the specified columns in the Primary dataset\n",
    "weekBefore['Price'] = weekBefore['Price'].astype('float64')\n",
    "weekBefore['Flight Duration'] = weekBefore['Flight Duration'].astype('float64')\n",
    "\n",
    "# Verify the changes\n",
    "weekBefore.dtypes"
   ]
  },
  {
   "cell_type": "markdown",
   "id": "92c67ae9-75b0-49ea-bbe5-a139c123ad91",
   "metadata": {},
   "source": [
    "## Show how prices change over time"
   ]
  },
  {
   "cell_type": "code",
   "execution_count": 120,
   "id": "a661cd96-b961-4eed-af16-f889aee33068",
   "metadata": {},
   "outputs": [],
   "source": [
    "# Load the dataset\n",
    "monthBefore = pd.read_csv('FINALPrimaryDataCleaned.csv', low_memory=False)"
   ]
  },
  {
   "cell_type": "code",
   "execution_count": null,
   "id": "79162f23-8eb3-49d8-ac92-167dccdc1888",
   "metadata": {},
   "outputs": [
    {
     "name": "stdout",
     "output_type": "stream",
     "text": [
      "0\n"
     ]
    }
   ],
   "source": [
    "monthBefore['Departure Date'] = pd.to_datetime(monthBefore['Departure Date'], format='%Y-%m-%d', errors='coerce')\n",
    "print(monthBefore['Departure Date'].isna().sum())  # Check how many dates failed to convert"
   ]
  },
  {
   "cell_type": "markdown",
   "id": "51fb70d9-6821-4424-8f53-1a99d7df056e",
   "metadata": {},
   "source": [
    "### Month before a flight"
   ]
  },
  {
   "cell_type": "code",
   "execution_count": 130,
   "id": "6b873299-43f5-4a49-990d-d8f37939f47d",
   "metadata": {},
   "outputs": [
    {
     "data": {
      "image/png": "[encoded data removed]",
      "text/plain": [
       "<Figure size 1000x600 with 1 Axes>"
      ]
     },
     "metadata": {},
     "output_type": "display_data"
    }
   ],
   "source": [
    "import pandas as pd\n",
    "import matplotlib.pyplot as plt\n",
    "\n",
    "# Example: load your monthBefore dataset\n",
    "# monthBefore = pd.read_csv('path_to_your_dataset.csv')\n",
    "\n",
    "# Filter for the specific date (24/10/2024)\n",
    "target_date = pd.to_datetime('2024-10-24')\n",
    "filtered_data = monthBefore[\n",
    "    (monthBefore['Departure Date'] == target_date) & \n",
    "    (monthBefore['Number Of Stops'] == 0)  # Add condition for zero stops\n",
    "]\n",
    "\n",
    "# Check if there's any data for the given date\n",
    "if filtered_data.empty:\n",
    "    print(\"No data available for the specified date.\")\n",
    "else:\n",
    "    # Plotting the prices\n",
    "    plt.figure(figsize=(10, 6))\n",
    "    plt.barh(filtered_data['Airline'], filtered_data['Price'], color='skyblue')\n",
    "    plt.title('Flight Prices on 24/10/2024 (Month Before)')\n",
    "    plt.xlabel('Price')\n",
    "    plt.ylabel('Airline')\n",
    "    plt.tight_layout()\n",
    "    plt.show()\n",
    "\n"
   ]
  },
  {
   "cell_type": "code",
   "execution_count": 136,
   "id": "cea8bde9-7c83-409b-bf06-220fdeac79a2",
   "metadata": {},
   "outputs": [
    {
     "name": "stdout",
     "output_type": "stream",
     "text": [
      "['Flyadeal' 'Flynas' 'Saudia' 'FlyadealSaudia']\n"
     ]
    }
   ],
   "source": [
    "print(filtered_data['Airline'].unique())\n"
   ]
  },
  {
   "cell_type": "markdown",
   "id": "6f5b6f9c-fd40-4f80-8037-b244a6c249e6",
   "metadata": {},
   "source": [
    "##### It looks like \"FlyadealSaudia\" is an unintended combination of two airline names"
   ]
  },
  {
   "cell_type": "markdown",
   "id": "e1b102fb-20a5-4e5f-aa38-86efce62c917",
   "metadata": {},
   "source": [
    "##### Since we are not sure it is under what airline we will replace any instances of \"FlyadealSaudia\" with separate entries."
   ]
  },
  {
   "cell_type": "code",
   "execution_count": 138,
   "id": "6466882b-3cb0-4c0b-816c-0b4ffe27e610",
   "metadata": {},
   "outputs": [
    {
     "name": "stdout",
     "output_type": "stream",
     "text": [
      "['Flyadeal' 'Flynas' 'Saudia']\n"
     ]
    }
   ],
   "source": [
    "# Replace the combined airline name with separate entries\n",
    "filtered_data['Airline'] = filtered_data['Airline'].replace('FlyadealSaudia', 'Flyadeal', regex=True)\n",
    "\n",
    "# You may also want to ensure that if a flight is listed under 'FlyadealSaudia', it has a separate entry for 'Saudia'.\n",
    "# Assuming that you want to keep separate entries for each airline.\n",
    "# Create a new DataFrame that splits combined entries into individual ones\n",
    "combined_airlines = filtered_data[filtered_data['Airline'] == 'FlyadealSaudia']\n",
    "\n",
    "# Create new entries for 'Saudia' from the combined entries\n",
    "for _, row in combined_airlines.iterrows():\n",
    "    new_row = row.copy()\n",
    "    new_row['Airline'] = 'Saudia'  # Set the airline to 'Saudia'\n",
    "    filtered_data = filtered_data.append(new_row, ignore_index=True)\n",
    "\n",
    "# Now, drop the original combined entry\n",
    "filtered_data = filtered_data[filtered_data['Airline'] != 'FlyadealSaudia']\n",
    "\n",
    "# Check unique values again\n",
    "print(filtered_data['Airline'].unique())"
   ]
  },
  {
   "cell_type": "code",
   "execution_count": 139,
   "id": "4f94ca10-27de-4511-ab76-a2fd737bb83e",
   "metadata": {},
   "outputs": [
    {
     "data": {
      "image/png": "[encoded data removed]",
      "text/plain": [
       "<Figure size 1000x600 with 1 Axes>"
      ]
     },
     "metadata": {},
     "output_type": "display_data"
    }
   ],
   "source": [
    "# Plotting the prices\n",
    "plt.figure(figsize=(10, 6))\n",
    "plt.barh(filtered_data['Airline'], filtered_data['Price'], color='skyblue')\n",
    "plt.title('Flight Prices on 24/10/2024 (Month Before)')\n",
    "plt.xlabel('Price')\n",
    "plt.ylabel('Airline')\n",
    "plt.tight_layout()\n",
    "plt.show()"
   ]
  },
  {
   "cell_type": "code",
   "execution_count": 140,
   "id": "493bf6ce-1c18-4695-ba72-68f485c7d9db",
   "metadata": {},
   "outputs": [
    {
     "name": "stdout",
     "output_type": "stream",
     "text": [
      "Minimum Price: 179.0\n",
      "Maximum Price: 2621.0\n",
      "Price Range: 2442.0\n"
     ]
    }
   ],
   "source": [
    "min_price = filtered_data['Price'].min()\n",
    "max_price = filtered_data['Price'].max()\n",
    "    \n",
    "# Calculate the range\n",
    "price_range = max_price - min_price\n",
    "    \n",
    "# Print the results\n",
    "print(f\"Minimum Price: {min_price}\")\n",
    "print(f\"Maximum Price: {max_price}\")\n",
    "print(f\"Price Range: {price_range}\")"
   ]
  },
  {
   "cell_type": "markdown",
   "id": "7aa38da8-035d-426d-ad5e-e8339b84b827",
   "metadata": {},
   "source": [
    "### Week before a flight"
   ]
  },
  {
   "cell_type": "code",
   "execution_count": 131,
   "id": "6adec7bc-e8ee-4183-bb85-8ad9380fb4c9",
   "metadata": {},
   "outputs": [
    {
     "data": {
      "image/png": "[encoded data removed]",
      "text/plain": [
       "<Figure size 1000x600 with 1 Axes>"
      ]
     },
     "metadata": {},
     "output_type": "display_data"
    }
   ],
   "source": [
    "\n",
    "filtered_data2 = weekBefore[\n",
    "    (weekBefore['Departure Date'] == target_date) & \n",
    "    (weekBefore['Number Of Stops'] == 0)  # Add condition for zero stops\n",
    "]\n",
    "\n",
    "# Check if there's any data for the given date\n",
    "if filtered_data2.empty:\n",
    "    print(\"No data available for the specified date.\")\n",
    "else:\n",
    "    # Plotting the prices\n",
    "    plt.figure(figsize=(10, 6))\n",
    "    plt.barh(filtered_data2['Airline'], filtered_data2['Price'], color='skyblue')\n",
    "    plt.title('Flight Prices on 24/10/2024 (Week Before)')\n",
    "    plt.xlabel('Price')\n",
    "    plt.ylabel('Airline')\n",
    "    plt.tight_layout()\n",
    "    plt.show()\n"
   ]
  },
  {
   "cell_type": "code",
   "execution_count": 132,
   "id": "183b0179-9548-4714-9752-cf26086b99fa",
   "metadata": {},
   "outputs": [
    {
     "name": "stdout",
     "output_type": "stream",
     "text": [
      "Minimum Price: 319.0\n",
      "Maximum Price: 1504.0\n",
      "Price Range: 1185.0\n"
     ]
    }
   ],
   "source": [
    "min_price2 = filtered_data2['Price'].min()\n",
    "max_price2 = filtered_data2['Price'].max()\n",
    "    \n",
    "# Calculate the range\n",
    "price_range2 = max_price2 - min_price2\n",
    "    \n",
    "# Print the results\n",
    "print(f\"Minimum Price: {min_price2}\")\n",
    "print(f\"Maximum Price: {max_price2}\")\n",
    "print(f\"Price Range: {price_range2}\")"
   ]
  },
  {
   "cell_type": "markdown",
   "id": "a100a7c4-25b2-4240-b1e4-636a07bdc3d2",
   "metadata": {},
   "source": [
    "### Day before a flight"
   ]
  },
  {
   "cell_type": "code",
   "execution_count": 151,
   "id": "9c47f21b-a40d-45b9-95d8-d0379042d2c3",
   "metadata": {},
   "outputs": [
    {
     "data": {
      "image/png": "[encoded data removed]",
      "text/plain": [
       "<Figure size 1000x600 with 1 Axes>"
      ]
     },
     "metadata": {},
     "output_type": "display_data"
    }
   ],
   "source": [
    "filtered_data3 = dayBefore[\n",
    "    (dayBefore['Departure Date'] == target_date) & \n",
    "    (dayBefore['Number Of Stops'] == 0)  \n",
    "]\n",
    "\n",
    "# Check if there's any data for the given date\n",
    "if filtered_data3.empty:\n",
    "    print(\"No data available for the specified date.\")\n",
    "else:\n",
    "    # Plotting the prices\n",
    "    plt.figure(figsize=(10, 6))\n",
    "    plt.barh(filtered_data3['Airline'], filtered_data3['Price'], color='skyblue')\n",
    "    plt.title('Flight Prices on 24/10/2024 (Day Before)')\n",
    "    plt.xlabel('Price')\n",
    "    plt.ylabel('Airline')\n",
    "    plt.tight_layout()\n",
    "    plt.show()"
   ]
  },
  {
   "cell_type": "code",
   "execution_count": 134,
   "id": "a7ab043f-8477-47eb-ac14-8bdef237bd13",
   "metadata": {},
   "outputs": [
    {
     "name": "stdout",
     "output_type": "stream",
     "text": [
      "Minimum Price: 219.0\n",
      "Maximum Price: 2442.0\n",
      "Price Range: 2223.0\n"
     ]
    }
   ],
   "source": [
    "min_price3 = filtered_data3['Price'].min()\n",
    "max_price3 = filtered_data3['Price'].max()\n",
    "    \n",
    "# Calculate the range\n",
    "price_range3 = max_price3 - min_price3\n",
    "    \n",
    "# Print the results\n",
    "print(f\"Minimum Price: {min_price3}\")\n",
    "print(f\"Maximum Price: {max_price3}\")\n",
    "print(f\"Price Range: {price_range3}\")"
   ]
  },
  {
   "cell_type": "markdown",
   "id": "4ca18157-031e-4083-ae70-affa3e840558",
   "metadata": {},
   "source": [
    "### Price Analysis"
   ]
  },
  {
   "cell_type": "code",
   "execution_count": 149,
   "id": "bc759604-1689-498b-abe2-379ff59f9ad8",
   "metadata": {},
   "outputs": [
    {
     "data": {
      "image/png": "[encoded data removed]",
      "text/plain": [
       "<Figure size 800x500 with 1 Axes>"
      ]
     },
     "metadata": {},
     "output_type": "display_data"
    }
   ],
   "source": [
    "import matplotlib.pyplot as plt\n",
    "\n",
    "# Example data for price ranges\n",
    "price_ranges = ['Month prior', 'Week prior', 'Day prior']\n",
    "price_values = [price_range.mean(), price_range2.mean(), price_range3.mean()]  \n",
    "\n",
    "plt.figure(figsize=(8, 5))\n",
    "plt.bar(price_ranges, price_values, color=['skyblue', 'lightgreen', 'salmon'])\n",
    "plt.title('Average Prices Across Different Ranges')\n",
    "plt.xlabel('Price Ranges')\n",
    "plt.ylabel('Average Price')\n",
    "plt.tight_layout()\n",
    "plt.show()"
   ]
  },
  {
   "cell_type": "markdown",
   "id": "0331d6bd-ff3e-4cd7-85fc-3ae880bc4bc4",
   "metadata": {},
   "source": [
    "##### The price range is highest when booking a month in advance (2442.0), indicating greater variability in ticket prices. This trend may be attributed to airlines offering a mix of lower and higher-priced tickets as they anticipate demand over time.\n",
    "\n",
    "##### As the departure date approaches, the price range decreases significantly when booking a week before (1185.0), but remains notable for last-minute bookings a day prior (2223.0). This fluctuation suggests that airlines adjust their pricing strategies based on remaining seat availability and expected demand as the flight date nears."
   ]
  },
  {
   "cell_type": "code",
   "execution_count": 150,
   "id": "8d2a4a5f-b63b-44b6-b7e6-830f33072a11",
   "metadata": {},
   "outputs": [
    {
     "data": {
      "image/png": "[encoded data removed]",
      "text/plain": [
       "<Figure size 800x500 with 1 Axes>"
      ]
     },
     "metadata": {},
     "output_type": "display_data"
    }
   ],
   "source": [
    "price_ranges = ['Month prior', 'Week prior', 'Day prior']\n",
    "price_values = [min_price, min_price2, min_price3]  \n",
    "\n",
    "plt.figure(figsize=(8, 5))\n",
    "plt.bar(price_ranges, price_values, color=['skyblue', 'lightgreen', 'salmon'])\n",
    "plt.title('Minimum Prices Across Different Booking Periods')\n",
    "plt.xlabel('Booking Period')\n",
    "plt.ylabel('Minimum Price')\n",
    "plt.tight_layout()\n",
    "plt.show()\n"
   ]
  },
  {
   "cell_type": "markdown",
   "id": "2f1758e2-0092-4e19-bd03-810bdb143dae",
   "metadata": {},
   "source": [
    "##### The plot illustrates the minimum prices for flights across different booking periods: 179.0 for a month prior, 319.0 for a week prior, and 219.0 for a day prior. Booking a month in advance offers the lowest minimum price, reflecting airlines' strategies to attract early travelers. The increase in minimum price to 319.0 one week before departure indicates heightened demand as the travel date nears. Interestingly, the minimum price drops to 219.0 for last-minute bookings, suggesting that airlines may adjust prices to fill remaining seats. This dynamic pricing approach highlights how airlines balance demand and revenue management, offering varying fare options based on booking timing"
   ]
  },
  {
   "cell_type": "markdown",
   "id": "d42460c6-548c-4491-b35f-8c2a18f8bf66",
   "metadata": {},
   "source": [
    "### Flight Counts"
   ]
  },
  {
   "cell_type": "code",
   "execution_count": 148,
   "id": "93122e62-0583-4d38-ba62-8ce269d3535d",
   "metadata": {},
   "outputs": [
    {
     "name": "stdout",
     "output_type": "stream",
     "text": [
      "Month prior flights on 2024-10-24 00:00:00: 156\n",
      "Week prior flights on 2024-10-24 00:00:00: 45\n",
      "Day prior flights on 2024-10-24 00:00:00: 60\n",
      "Difference between num of flights a month before and a week: 111\n",
      "Difference between num of flights a week before and a day: -15\n",
      "Difference between num of flights a month before and a day: 96\n"
     ]
    },
    {
     "data": {
      "image/png": "[encoded data removed]",
      "text/plain": [
       "<Figure size 1000x600 with 1 Axes>"
      ]
     },
     "metadata": {},
     "output_type": "display_data"
    }
   ],
   "source": [
    "import pandas as pd\n",
    "import matplotlib.pyplot as plt\n",
    "\n",
    "# Count flights for that day\n",
    "month_flights_count = filtered_data.shape[0]\n",
    "week_flights_count = filtered_data2.shape[0]\n",
    "day_flights_count = filtered_data3.shape[0]\n",
    "\n",
    "# Create a comparison DataFrame\n",
    "comparison_df = pd.DataFrame({\n",
    "    'Category': ['Month prior', 'Week prior', 'Day prior'],\n",
    "    'Flights Count': [month_flights_count, week_flights_count, day_flights_count]\n",
    "})\n",
    "\n",
    "# Calculate the difference\n",
    "differenceMonthAndWeek = month_flights_count - week_flights_count\n",
    "differenceWeekAndDay = week_flights_count - day_flights_count\n",
    "differenceMonthAndDay = month_flights_count - day_flights_count\n",
    "\n",
    "# Display the comparison and difference\n",
    "print(f\"Month prior flights on {target_date}: {month_flights_count}\")\n",
    "print(f\"Week prior flights on {target_date}: {week_flights_count}\")\n",
    "print(f\"Day prior flights on {target_date}: {day_flights_count}\")\n",
    "print(f\"Difference between num of flights a month before and a week: {differenceMonthAndWeek}\")\n",
    "print(f\"Difference between num of flights a week before and a day: {differenceWeekAndDay}\")\n",
    "print(f\"Difference between num of flights a month before and a day: {differenceMonthAndDay}\")\n",
    "\n",
    "# Plot the comparison\n",
    "plt.figure(figsize=(10, 6))  # Adjust size as needed\n",
    "plt.bar(comparison_df['Category'], comparison_df['Flights Count'], color=['blue', 'orange', 'green'])\n",
    "plt.title(f\"Flight Comparison on {target_date}\")\n",
    "plt.ylabel('Number of Flights')\n",
    "plt.xlabel('Category')\n",
    "\n",
    "# Annotate the count on the plot\n",
    "for i, count in enumerate(comparison_df['Flights Count']):\n",
    "    plt.text(i, count + 0.5, str(count), ha='center')\n",
    "\n",
    "# Show plot\n",
    "plt.ylim(0, max(comparison_df['Flights Count']) + 5)  # Adjust y-limit for better visualization\n",
    "plt.grid(axis='y')  # Add gridlines for better readability\n",
    "plt.show()\n"
   ]
  },
  {
   "cell_type": "markdown",
   "id": "78289dd8-f287-427f-ad81-286ced69211f",
   "metadata": {},
   "source": [
    "##### Month vs. Week: The number of flights decreased by 111 from a month before to a week before the target date. This significant drop could indicate a reduction in available flights as the departure date approaches, possibly due to airlines optimizing their schedules closer to the travel date or cancellations.\n",
    "##### Week vs. Day: The count increased by 15 from a week before to the day before. This could suggest that airlines added more flights as the departure date approached to accommodate last-minute travelers.\n",
    "##### Month vs. Day: There is a decrease of 96 flights from a month before to a day before. This might reflect a trend where many travelers booked flights well in advance, leading to a higher number a month prior, while fewer flights were available as the date approached."
   ]
  }
 ],
 "metadata": {
  "kernelspec": {
   "display_name": "Python 3 (ipykernel)",
   "language": "python",
   "name": "python3"
  },
  "language_info": {
   "codemirror_mode": {
    "name": "ipython",
    "version": 3
   },
   "file_extension": ".py",
   "mimetype": "text/x-python",
   "name": "python",
   "nbconvert_exporter": "python",
   "pygments_lexer": "ipython3",
   "version": "3.11.5"
  }
 },
 "nbformat": 4,
 "nbformat_minor": 5
}
